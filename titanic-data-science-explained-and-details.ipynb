{
 "cells": [
  {
   "cell_type": "markdown",
   "id": "e4a973a0",
   "metadata": {
    "papermill": {
     "duration": 0.004784,
     "end_time": "2024-02-25T20:08:43.297078",
     "exception": false,
     "start_time": "2024-02-25T20:08:43.292294",
     "status": "completed"
    },
    "tags": []
   },
   "source": [
    "# Introduction\n",
    "***We will focus Titanic dataset in this code. It is very important for all user. We can say it is basic dataset for every user. I will try to review this code from a beginner view. If you are ready, let's go!***\n"
   ]
  },
  {
   "cell_type": "markdown",
   "id": "11dac83b",
   "metadata": {
    "papermill": {
     "duration": 0.002792,
     "end_time": "2024-02-25T20:08:43.303458",
     "exception": false,
     "start_time": "2024-02-25T20:08:43.300666",
     "status": "completed"
    },
    "tags": []
   },
   "source": [
    "**We will have some parts in this code. These parts include every part of data science life cycle. If you want to be a succesfull data scientist/analyst/engineer, you shouldn't pass these life cycle steps!**"
   ]
  },
  {
   "cell_type": "markdown",
   "id": "b47a41bd",
   "metadata": {
    "papermill": {
     "duration": 0.002845,
     "end_time": "2024-02-25T20:08:43.309569",
     "exception": false,
     "start_time": "2024-02-25T20:08:43.306724",
     "status": "completed"
    },
    "tags": []
   },
   "source": [
    "**<font color = 'darkblue'>\n",
    "Content: \n",
    "\n",
    "1. [Problem Definition and Project Planning](#1)\n",
    "1. [Load and Check Data](#2)\n",
    "1. [Variable Description](#3)\n",
    "    * [Univariate Variable Analysis](#3)\n",
    "        * [Categorical Variable](#4)\n",
    "        * [Numerical Variable](#5)\n",
    "1. [Basic Data Analysis](#6)\n",
    "1. [Outlier Detection](#7)\n",
    "1. [Missing Value](#8)\n",
    "    * [Find Missing Value](#9)\n",
    "    * [Fill Missing Value](#10)\n",
    "1. [Visualization](#11)\n",
    "    * [Correlation Between Sibsp -- Parch -- Age -- Fare -- Survived](#12)\n",
    "    * [SibSp -- Survived](#13)\n",
    "    * [Parch -- Survived](#14)\n",
    "    * [Pclass -- Survived](#15)\n",
    "    * [Age -- Survived](#16)\n",
    "    * [Pclass -- Survived -- Age](#17)\n",
    "    * [Embarked -- Sex -- Pclass -- Survived](#18)\n",
    "    * [Embarked -- Sex -- Fare -- Survived](#19)\n",
    "    * [Fill Missing: Age Feature](#20)\n",
    "1. [Feature Engineering](#21)\n",
    "    * [Name -- Title](#22)\n",
    "    * [Family Size](#23)\n",
    "    * [Embarked](#24)\n",
    "    * [Ticket](#25)\n",
    "    * [Pclass](#26)\n",
    "    * [Sex](#27)\n",
    "    * [Drop Passenger ID and Cabin](#28)\n",
    "1. [Modeling](#29)\n",
    "    * [Train - Test Split](#30)\n",
    "    * [Simple Logistic Regression](#31)\n",
    "    * [Hyperparameter Tuning -- Grid Search -- Cross Validation](#32) \n",
    "    * [Ensemble Modeling](#33)\n",
    "    * [Prediction and Submission](#34)**"
   ]
  },
  {
   "cell_type": "markdown",
   "id": "6807fc27",
   "metadata": {
    "papermill": {
     "duration": 0.002641,
     "end_time": "2024-02-25T20:08:43.315297",
     "exception": false,
     "start_time": "2024-02-25T20:08:43.312656",
     "status": "completed"
    },
    "tags": []
   },
   "source": [
    "<a id = \"1\"></a><br>\n",
    "# Problem Definition and Project Planning"
   ]
  },
  {
   "cell_type": "markdown",
   "id": "f71dc2b5",
   "metadata": {
    "papermill": {
     "duration": 0.002517,
     "end_time": "2024-02-25T20:08:43.320583",
     "exception": false,
     "start_time": "2024-02-25T20:08:43.318066",
     "status": "completed"
    },
    "tags": []
   },
   "source": [
    "***Problem Definition:***\n",
    "\n",
    "The problem at hand is to build a predictive model that can answer the question: \"What sorts of people were more likely to survive the sinking of the Titanic?\" The sinking of the Titanic is a historical event where, due to a collision with an iceberg during its maiden voyage on April 15, 1912, a significant number of passengers lost their lives. The challenge is to analyze passenger data, including attributes such as name, age, gender, socio-economic class, etc., and predict which passengers were more likely to survive based on these characteristics.*\n",
    "\n",
    "**Project Planning:**\n",
    "\n",
    "* ***Understanding the Objective:***\n",
    "\n",
    "We clearly talked about problem in the problem definition. We will focus to find the most optimum **submission.csv** file.\n",
    "\n",
    "* ***Data Explanation:***\n",
    "\n",
    "    ***Data Split:***\n",
    "\n",
    "    ***The dataset is divided into two groups:***\n",
    "\n",
    "    ***Training set (train.csv)***: Used to build machine learning models, with the ground truth provided for each passenger.\n",
    "\n",
    "    ***Test set (test.csv)***: Used to evaluate model performance on unseen data, with no ground truth provided.\n",
    "\n",
    "    ***Target Variable:***\n",
    "\n",
    "    *Survival:* Binary variable indicating whether a passenger survived (1) or not (0).\n",
    "\n",
    "    ***Key Features:***\n",
    "\n",
    "    *Pclass:* Ticket class representing socio-economic status (1st = Upper, 2nd = Middle, 3rd = Lower).\n",
    "    *Sex:* Gender of the passenger.\n",
    "    *Age:* Age of the passenger in years.\n",
    "    *SibSp:* # of siblings/spouses aboard the Titanic.\n",
    "    Parch: # of parents/children aboard the Titanic.\n",
    "    *Ticket:* Ticket number.\n",
    "    *Fare:* Passenger fare.\n",
    "    *Cabin:* Cabin number.\n",
    "    *Embarked:* Port of embarkation (C = Cherbourg, Q = Queenstown, S = Southampton).\n",
    "\n",
    "    ***Variable Notes:***\n",
    "\n",
    "    *Pclass:* A proxy for socio-economic status (SES).\n",
    "    *Age:* Fractional if less than 1, or in the form of xx.5 if estimated.\n",
    "    *SibSp and Parch:* Define family relations, specifying siblings, spouses, parents, and children.\n",
    "    *Some children traveled only with a nanny, resulting in Parch=0 for them.*\n",
    "   \n",
    "* ***Import Libraries:***\n",
    "    *We will import necessary libraries.*\n",
    "* ***Load and Check Data:***\n",
    "    *We will load and check data. We can say, we will read csv files.*\n",
    "* ***Understand  Dataset:***\n",
    "    *We will understand the dataset from dataframe.*\n",
    "* ***Variable Description:***\n",
    "    *We will review variables according to their situation: categorical or numerical.*\n",
    "* ***Basic Data Analysis:***\n",
    "    *We will do basic data analysis so we can understand dataset from deep side.*\n",
    "* ***Data Cleaning:***\n",
    "    *We will do data cleaning. This is the most important step for data science. This is %80 of the work in the projects. You cannot overlook this step. We will remove duplicates, missing values, reformat data types, check outlier and remove them, validate, if these steps are necessary.* \n",
    "* ***Visualization:***\n",
    "    *We will visualize the data. If you visualize your data you can understand your data easily.*\n",
    "* ***Exploratory Data Analysis(EDA):***\n",
    "    *We will understand the dataset deeper with Exploraty Data Analysis. We will focus univariate relationship.*\n",
    "* ***Feature Engineering:***\n",
    "    *We will focus feature engineering for the best solution in the feature engineering. You can show your creative side in Feature Engineering.*\n",
    "* ***Modelling:***\n",
    "    *We will choose the best machine learning model for our data. We should choose a good model for our data. If we find the best model for our dataset, we will get a good score.*\n",
    "* ***Submission File:***\n",
    "    *We will create our submission file.*\n",
    "    \n",
    "***Now, we can start our code part according to planning steps. You will try to understand whole steps. If you understand whole steps, you can be very good data scientist. Let's start!***"
   ]
  },
  {
   "cell_type": "code",
   "execution_count": 1,
   "id": "41b6eee4",
   "metadata": {
    "_cell_guid": "b1076dfc-b9ad-4769-8c92-a6c4dae69d19",
    "_uuid": "8f2839f25d086af736a60e9eeb907d3b93b6e0e5",
    "execution": {
     "iopub.execute_input": "2024-02-25T20:08:43.328471Z",
     "iopub.status.busy": "2024-02-25T20:08:43.328049Z",
     "iopub.status.idle": "2024-02-25T20:08:44.277624Z",
     "shell.execute_reply": "2024-02-25T20:08:44.275642Z"
    },
    "papermill": {
     "duration": 0.957275,
     "end_time": "2024-02-25T20:08:44.280636",
     "exception": false,
     "start_time": "2024-02-25T20:08:43.323361",
     "status": "completed"
    },
    "tags": []
   },
   "outputs": [
    {
     "name": "stdout",
     "output_type": "stream",
     "text": [
      "/kaggle/input/titanic/train.csv\n",
      "/kaggle/input/titanic/test.csv\n",
      "/kaggle/input/titanic/gender_submission.csv\n"
     ]
    }
   ],
   "source": [
    "import numpy as np\n",
    "import pandas as pd\n",
    "\n",
    "\n",
    "import os\n",
    "for dirname, _, filenames in os.walk('/kaggle/input'):\n",
    "    for filename in filenames:\n",
    "        print(os.path.join(dirname, filename))"
   ]
  },
  {
   "cell_type": "markdown",
   "id": "25b2499e",
   "metadata": {
    "papermill": {
     "duration": 0.002906,
     "end_time": "2024-02-25T20:08:44.286975",
     "exception": false,
     "start_time": "2024-02-25T20:08:44.284069",
     "status": "completed"
    },
    "tags": []
   },
   "source": []
  }
 ],
 "metadata": {
  "kaggle": {
   "accelerator": "none",
   "dataSources": [
    {
     "databundleVersionId": 26502,
     "sourceId": 3136,
     "sourceType": "competition"
    }
   ],
   "dockerImageVersionId": 30646,
   "isGpuEnabled": false,
   "isInternetEnabled": true,
   "language": "python",
   "sourceType": "notebook"
  },
  "kernelspec": {
   "display_name": "Python 3",
   "language": "python",
   "name": "python3"
  },
  "language_info": {
   "codemirror_mode": {
    "name": "ipython",
    "version": 3
   },
   "file_extension": ".py",
   "mimetype": "text/x-python",
   "name": "python",
   "nbconvert_exporter": "python",
   "pygments_lexer": "ipython3",
   "version": "3.10.13"
  },
  "papermill": {
   "default_parameters": {},
   "duration": 4.661499,
   "end_time": "2024-02-25T20:08:44.911938",
   "environment_variables": {},
   "exception": null,
   "input_path": "__notebook__.ipynb",
   "output_path": "__notebook__.ipynb",
   "parameters": {},
   "start_time": "2024-02-25T20:08:40.250439",
   "version": "2.5.0"
  }
 },
 "nbformat": 4,
 "nbformat_minor": 5
}
